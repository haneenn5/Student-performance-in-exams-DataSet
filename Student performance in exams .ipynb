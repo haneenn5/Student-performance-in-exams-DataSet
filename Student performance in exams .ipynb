{
 "cells": [
  {
   "cell_type": "markdown",
   "id": "e1623a1e",
   "metadata": {},
   "source": [
    "# Student performance in exams DataSet"
   ]
  },
  {
   "cell_type": "markdown",
   "id": "a85bbc23",
   "metadata": {},
   "source": [
    "### Table of Contents\n",
    "\n",
    "- Introduction\n",
    "- Business understanding\n",
    "- Data understanding\n",
    "- Prepare Data\n",
    "- Exploratory Data Analysis\n",
    "- Answer the questions \n",
    "- Conclusion"
   ]
  },
  {
   "cell_type": "markdown",
   "id": "c7ca3f48",
   "metadata": {},
   "source": [
    "## Introduction"
   ]
  },
  {
   "cell_type": "markdown",
   "id": "a0117c28",
   "metadata": {},
   "source": [
    "This is Blog Post is a part of the Data Scientist Nanodegree Program requirement from Udacity, I chose to work on a data set about students’ performance on exams."
   ]
  },
  {
   "cell_type": "markdown",
   "id": "13564e60",
   "metadata": {},
   "source": [
    "## Business Understanding\n",
    "\n",
    "We are interested to determine what all the features which plays a vital role in affecting the student’s performance, and we also solutions on some of the questions for example:\n",
    "\n",
    "- Q1: Are higher education levels of parents related to the performance of their children?\n",
    "- Q2: What do you think? Could students get a higher score if they took a test preparation course?\n",
    "- Q3: Higher scores are correlated with gender?"
   ]
  },
  {
   "cell_type": "markdown",
   "id": "9cdbfc0c",
   "metadata": {},
   "source": [
    "### Import Libraries and read data"
   ]
  },
  {
   "cell_type": "code",
   "execution_count": 1,
   "id": "acd70079",
   "metadata": {
    "scrolled": true
   },
   "outputs": [
    {
     "data": {
      "text/html": [
       "<div>\n",
       "<style scoped>\n",
       "    .dataframe tbody tr th:only-of-type {\n",
       "        vertical-align: middle;\n",
       "    }\n",
       "\n",
       "    .dataframe tbody tr th {\n",
       "        vertical-align: top;\n",
       "    }\n",
       "\n",
       "    .dataframe thead th {\n",
       "        text-align: right;\n",
       "    }\n",
       "</style>\n",
       "<table border=\"1\" class=\"dataframe\">\n",
       "  <thead>\n",
       "    <tr style=\"text-align: right;\">\n",
       "      <th></th>\n",
       "      <th>sex</th>\n",
       "      <th>race/ethnicity</th>\n",
       "      <th>parental_level_of_education</th>\n",
       "      <th>lunch</th>\n",
       "      <th>test_preparation_course</th>\n",
       "      <th>math_percentage</th>\n",
       "      <th>reading_percentage</th>\n",
       "      <th>writing_percentage</th>\n",
       "    </tr>\n",
       "  </thead>\n",
       "  <tbody>\n",
       "    <tr>\n",
       "      <th>0</th>\n",
       "      <td>F</td>\n",
       "      <td>group B</td>\n",
       "      <td>bachelor's degree</td>\n",
       "      <td>standard</td>\n",
       "      <td>none</td>\n",
       "      <td>0.72</td>\n",
       "      <td>0.72</td>\n",
       "      <td>0.74</td>\n",
       "    </tr>\n",
       "    <tr>\n",
       "      <th>1</th>\n",
       "      <td>F</td>\n",
       "      <td>group C</td>\n",
       "      <td>some college</td>\n",
       "      <td>standard</td>\n",
       "      <td>completed</td>\n",
       "      <td>0.69</td>\n",
       "      <td>0.90</td>\n",
       "      <td>0.88</td>\n",
       "    </tr>\n",
       "    <tr>\n",
       "      <th>2</th>\n",
       "      <td>F</td>\n",
       "      <td>group B</td>\n",
       "      <td>master's degree</td>\n",
       "      <td>standard</td>\n",
       "      <td>none</td>\n",
       "      <td>0.90</td>\n",
       "      <td>0.95</td>\n",
       "      <td>0.93</td>\n",
       "    </tr>\n",
       "    <tr>\n",
       "      <th>3</th>\n",
       "      <td>M</td>\n",
       "      <td>group A</td>\n",
       "      <td>associate's degree</td>\n",
       "      <td>free/reduced</td>\n",
       "      <td>none</td>\n",
       "      <td>0.47</td>\n",
       "      <td>0.57</td>\n",
       "      <td>0.44</td>\n",
       "    </tr>\n",
       "    <tr>\n",
       "      <th>4</th>\n",
       "      <td>M</td>\n",
       "      <td>group C</td>\n",
       "      <td>some college</td>\n",
       "      <td>standard</td>\n",
       "      <td>none</td>\n",
       "      <td>0.76</td>\n",
       "      <td>0.78</td>\n",
       "      <td>0.75</td>\n",
       "    </tr>\n",
       "  </tbody>\n",
       "</table>\n",
       "</div>"
      ],
      "text/plain": [
       "  sex race/ethnicity parental_level_of_education         lunch  \\\n",
       "0   F        group B           bachelor's degree      standard   \n",
       "1   F        group C                some college      standard   \n",
       "2   F        group B             master's degree      standard   \n",
       "3   M        group A          associate's degree  free/reduced   \n",
       "4   M        group C                some college      standard   \n",
       "\n",
       "  test_preparation_course  math_percentage  reading_percentage  \\\n",
       "0                    none             0.72                0.72   \n",
       "1               completed             0.69                0.90   \n",
       "2                    none             0.90                0.95   \n",
       "3                    none             0.47                0.57   \n",
       "4                    none             0.76                0.78   \n",
       "\n",
       "   writing_percentage  \n",
       "0                0.74  \n",
       "1                0.88  \n",
       "2                0.93  \n",
       "3                0.44  \n",
       "4                0.75  "
      ]
     },
     "execution_count": 1,
     "metadata": {},
     "output_type": "execute_result"
    }
   ],
   "source": [
    "# import for libraries used in the code\n",
    "import pandas as pd \n",
    "import numpy as np\n",
    "import seaborn as sns \n",
    "import matplotlib.pyplot as plt\n",
    "%matplotlib inline\n",
    "import warnings\n",
    "\n",
    "warnings.filterwarnings('ignore') #ignore warning messages\n",
    "\n",
    "df = pd.read_csv('./Student_DataSet.csv')\n",
    "df.head() # read a top row in data "
   ]
  },
  {
   "cell_type": "markdown",
   "id": "0fa8e372",
   "metadata": {},
   "source": [
    "## Data Understanding"
   ]
  },
  {
   "cell_type": "code",
   "execution_count": 2,
   "id": "f45cfacb",
   "metadata": {},
   "outputs": [
    {
     "data": {
      "text/plain": [
       "(1000, 8)"
      ]
     },
     "execution_count": 2,
     "metadata": {},
     "output_type": "execute_result"
    }
   ],
   "source": [
    "df.shape #Show the number of rows and number of columns in the dataset"
   ]
  },
  {
   "cell_type": "code",
   "execution_count": 3,
   "id": "8fd81afd",
   "metadata": {},
   "outputs": [
    {
     "data": {
      "text/plain": [
       "sex                             object\n",
       "race/ethnicity                  object\n",
       "parental_level_of_education     object\n",
       "lunch                           object\n",
       "test_preparation_course         object\n",
       "math_percentage                float64\n",
       "reading_percentage             float64\n",
       "writing_percentage             float64\n",
       "dtype: object"
      ]
     },
     "execution_count": 3,
     "metadata": {},
     "output_type": "execute_result"
    }
   ],
   "source": [
    "df.dtypes #Check the data type for each column"
   ]
  },
  {
   "cell_type": "markdown",
   "id": "088e95f6",
   "metadata": {},
   "source": [
    "Data contains 5 categorical columns and 3 columns contains numeric values."
   ]
  },
  {
   "cell_type": "markdown",
   "id": "076c5e30",
   "metadata": {},
   "source": [
    "## Prepare Data"
   ]
  },
  {
   "cell_type": "markdown",
   "id": "bcb65e8d",
   "metadata": {},
   "source": [
    "### Missing value"
   ]
  },
  {
   "cell_type": "code",
   "execution_count": 4,
   "id": "cea52411",
   "metadata": {
    "scrolled": true
   },
   "outputs": [
    {
     "data": {
      "text/plain": [
       "sex                            0\n",
       "race/ethnicity                 0\n",
       "parental_level_of_education    0\n",
       "lunch                          0\n",
       "test_preparation_course        0\n",
       "math_percentage                0\n",
       "reading_percentage             0\n",
       "writing_percentage             0\n",
       "dtype: int64"
      ]
     },
     "execution_count": 4,
     "metadata": {},
     "output_type": "execute_result"
    }
   ],
   "source": [
    "#Is there any missing value?\n",
    "df.isnull().sum()"
   ]
  },
  {
   "cell_type": "markdown",
   "id": "b4568d32",
   "metadata": {},
   "source": [
    "The DataFrame haven't any missing values."
   ]
  },
  {
   "cell_type": "code",
   "execution_count": 5,
   "id": "71084b27",
   "metadata": {},
   "outputs": [
    {
     "data": {
      "text/plain": [
       "0"
      ]
     },
     "execution_count": 5,
     "metadata": {},
     "output_type": "execute_result"
    }
   ],
   "source": [
    "#Check if there any duplicated values\n",
    "df.duplicated().sum()"
   ]
  },
  {
   "cell_type": "markdown",
   "id": "59ef977f",
   "metadata": {},
   "source": [
    "The DataFrame haven't any duplicated values."
   ]
  },
  {
   "cell_type": "markdown",
   "id": "2d4e79c8",
   "metadata": {},
   "source": [
    "### Unique values"
   ]
  },
  {
   "cell_type": "code",
   "execution_count": 6,
   "id": "807db597",
   "metadata": {
    "scrolled": true
   },
   "outputs": [
    {
     "data": {
      "text/plain": [
       "sex                             2\n",
       "race/ethnicity                  5\n",
       "parental_level_of_education     6\n",
       "lunch                           2\n",
       "test_preparation_course         2\n",
       "math_percentage                81\n",
       "reading_percentage             72\n",
       "writing_percentage             77\n",
       "dtype: int64"
      ]
     },
     "execution_count": 6,
     "metadata": {},
     "output_type": "execute_result"
    }
   ],
   "source": [
    "df.nunique() # find unique values"
   ]
  },
  {
   "cell_type": "code",
   "execution_count": 7,
   "id": "9bf5dedb",
   "metadata": {
    "scrolled": true
   },
   "outputs": [
    {
     "data": {
      "text/html": [
       "<div>\n",
       "<style scoped>\n",
       "    .dataframe tbody tr th:only-of-type {\n",
       "        vertical-align: middle;\n",
       "    }\n",
       "\n",
       "    .dataframe tbody tr th {\n",
       "        vertical-align: top;\n",
       "    }\n",
       "\n",
       "    .dataframe thead th {\n",
       "        text-align: right;\n",
       "    }\n",
       "</style>\n",
       "<table border=\"1\" class=\"dataframe\">\n",
       "  <thead>\n",
       "    <tr style=\"text-align: right;\">\n",
       "      <th></th>\n",
       "      <th>count</th>\n",
       "      <th>mean</th>\n",
       "      <th>std</th>\n",
       "      <th>min</th>\n",
       "      <th>25%</th>\n",
       "      <th>50%</th>\n",
       "      <th>75%</th>\n",
       "      <th>max</th>\n",
       "    </tr>\n",
       "  </thead>\n",
       "  <tbody>\n",
       "    <tr>\n",
       "      <th>math_percentage</th>\n",
       "      <td>1000.0</td>\n",
       "      <td>0.66</td>\n",
       "      <td>0.15</td>\n",
       "      <td>0.00</td>\n",
       "      <td>0.57</td>\n",
       "      <td>0.66</td>\n",
       "      <td>0.77</td>\n",
       "      <td>1.0</td>\n",
       "    </tr>\n",
       "    <tr>\n",
       "      <th>reading_percentage</th>\n",
       "      <td>1000.0</td>\n",
       "      <td>0.69</td>\n",
       "      <td>0.15</td>\n",
       "      <td>0.17</td>\n",
       "      <td>0.59</td>\n",
       "      <td>0.70</td>\n",
       "      <td>0.79</td>\n",
       "      <td>1.0</td>\n",
       "    </tr>\n",
       "    <tr>\n",
       "      <th>writing_percentage</th>\n",
       "      <td>1000.0</td>\n",
       "      <td>0.68</td>\n",
       "      <td>0.15</td>\n",
       "      <td>0.10</td>\n",
       "      <td>0.58</td>\n",
       "      <td>0.69</td>\n",
       "      <td>0.79</td>\n",
       "      <td>1.0</td>\n",
       "    </tr>\n",
       "  </tbody>\n",
       "</table>\n",
       "</div>"
      ],
      "text/plain": [
       "                     count  mean   std   min   25%   50%   75%  max\n",
       "math_percentage     1000.0  0.66  0.15  0.00  0.57  0.66  0.77  1.0\n",
       "reading_percentage  1000.0  0.69  0.15  0.17  0.59  0.70  0.79  1.0\n",
       "writing_percentage  1000.0  0.68  0.15  0.10  0.58  0.69  0.79  1.0"
      ]
     },
     "execution_count": 7,
     "metadata": {},
     "output_type": "execute_result"
    }
   ],
   "source": [
    "df.describe().round(2).T # Show the basic statistical details percentile, mean, std etc"
   ]
  },
  {
   "cell_type": "markdown",
   "id": "0c535d40",
   "metadata": {},
   "source": [
    "summary of the data : \n",
    "\n",
    "- Maths has the least mean of scores and the least minimum score. The mean in two subjects are almost the same. \n",
    "\n",
    "- Every subject has a student who has scored full marks.\n",
    "\n",
    "\n"
   ]
  },
  {
   "cell_type": "code",
   "execution_count": 8,
   "id": "60699ff1",
   "metadata": {},
   "outputs": [
    {
     "data": {
      "text/plain": [
       "Passed    865\n",
       "Failed    135\n",
       "Name: math_pass_status, dtype: int64"
      ]
     },
     "execution_count": 8,
     "metadata": {},
     "output_type": "execute_result"
    }
   ],
   "source": [
    "# Number of Students passed and Failed in Math  \n",
    "df['math_pass_status'] = np.where(df['math_percentage'] < 0.50,'Failed','Passed')\n",
    "df['math_pass_status'].value_counts() "
   ]
  },
  {
   "cell_type": "code",
   "execution_count": 9,
   "id": "1c948045",
   "metadata": {},
   "outputs": [
    {
     "data": {
      "text/plain": [
       "Passed    910\n",
       "Failed     90\n",
       "Name: reading_pass_status, dtype: int64"
      ]
     },
     "execution_count": 9,
     "metadata": {},
     "output_type": "execute_result"
    }
   ],
   "source": [
    "# Number of Students passed and Failed in Reading \n",
    "df['reading_pass_status'] = np.where(df['reading_percentage'] < 0.50,'Failed','Passed')\n",
    "df['reading_pass_status'].value_counts()"
   ]
  },
  {
   "cell_type": "code",
   "execution_count": 10,
   "id": "068dfef4",
   "metadata": {
    "scrolled": true
   },
   "outputs": [
    {
     "data": {
      "text/plain": [
       "Passed    886\n",
       "Failed    114\n",
       "Name: writing_pass_status, dtype: int64"
      ]
     },
     "execution_count": 10,
     "metadata": {},
     "output_type": "execute_result"
    }
   ],
   "source": [
    "# Number of Students passed and Failed in Wrting \n",
    "df['writing_pass_status'] = np.where(df['writing_percentage'] < 0.50,'Failed','Passed')\n",
    "df['writing_pass_status'].value_counts()"
   ]
  },
  {
   "cell_type": "code",
   "execution_count": 11,
   "id": "2736939c",
   "metadata": {
    "scrolled": true
   },
   "outputs": [],
   "source": [
    "# shows the student's final grade (math grade, reading and writing together)\n",
    "df['final_grade']= ((df['math_percentage']+df['reading_percentage']+df['writing_percentage'])/3).round(2)"
   ]
  },
  {
   "cell_type": "code",
   "execution_count": 13,
   "id": "17c2b94a",
   "metadata": {},
   "outputs": [
    {
     "data": {
      "text/plain": [
       "Passed    900\n",
       "Failed    100\n",
       "Name: final_status, dtype: int64"
      ]
     },
     "execution_count": 13,
     "metadata": {},
     "output_type": "execute_result"
    }
   ],
   "source": [
    "# Students status   \n",
    "df['final_status']  = np.where(df['final_grade'] < 0.50,'Failed','Passed')\n",
    "df['final_status'].value_counts()"
   ]
  },
  {
   "cell_type": "code",
   "execution_count": 14,
   "id": "06f84fc3",
   "metadata": {},
   "outputs": [
    {
     "name": "stdout",
     "output_type": "stream",
     "text": [
      "sex : ['F' 'M']\n",
      "F    518\n",
      "M    482\n",
      "Name: sex, dtype: int64\n",
      "________________\n",
      "\n",
      "race/ethnicity : ['group B' 'group C' 'group A' 'group D' 'group E']\n",
      "group C    319\n",
      "group D    262\n",
      "group B    190\n",
      "group E    140\n",
      "group A     89\n",
      "Name: race/ethnicity, dtype: int64\n",
      "________________\n",
      "\n",
      "parental_level_of_education : [\"bachelor's degree\" 'some college' \"master's degree\" \"associate's degree\"\n",
      " 'high school' 'some high school']\n",
      "some college          226\n",
      "associate's degree    222\n",
      "high school           196\n",
      "some high school      179\n",
      "bachelor's degree     118\n",
      "master's degree        59\n",
      "Name: parental_level_of_education, dtype: int64\n",
      "________________\n",
      "\n",
      "lunch : ['standard' 'free/reduced']\n",
      "standard        645\n",
      "free/reduced    355\n",
      "Name: lunch, dtype: int64\n",
      "________________\n",
      "\n",
      "test_preparation_course : ['none' 'completed']\n",
      "none         642\n",
      "completed    358\n",
      "Name: test_preparation_course, dtype: int64\n",
      "________________\n",
      "\n",
      "math_percentage : [0.72 0.69 0.9  0.47 0.76 0.71 0.88 0.4  0.64 0.38 0.58 0.65 0.78 0.5\n",
      " 0.18 0.46 0.54 0.66 0.44 0.74 0.73 0.67 0.7  0.62 0.63 0.56 0.97 0.81\n",
      " 0.75 0.57 0.55 0.53 0.59 0.82 0.77 0.33 0.52 0.   0.79 0.39 0.45 0.6\n",
      " 0.61 0.41 0.49 0.3  0.8  0.42 0.27 0.43 0.68 0.85 0.98 0.87 0.51 0.99\n",
      " 0.84 0.91 0.83 0.89 0.22 1.   0.96 0.94 0.48 0.35 0.34 0.86 0.92 0.37\n",
      " 0.28 0.24 0.26 0.95 0.36 0.29 0.32 0.93 0.19 0.23 0.08]\n",
      "0.65    36\n",
      "0.62    35\n",
      "0.69    32\n",
      "0.59    32\n",
      "0.61    27\n",
      "        ..\n",
      "0.23     1\n",
      "0.19     1\n",
      "0.33     1\n",
      "0.24     1\n",
      "0.08     1\n",
      "Name: math_percentage, Length: 81, dtype: int64\n",
      "________________\n",
      "\n",
      "reading_percentage : [0.72 0.9  0.95 0.57 0.78 0.83 0.43 0.64 0.6  0.54 0.52 0.81 0.53 0.75\n",
      " 0.89 0.32 0.42 0.58 0.69 0.73 0.71 0.74 0.7  0.65 0.87 0.56 0.61 0.84\n",
      " 0.55 0.44 0.41 0.85 0.59 0.17 0.39 0.8  0.37 0.63 0.51 0.49 0.26 0.68\n",
      " 0.45 0.47 0.86 0.34 0.79 0.66 0.67 0.91 1.   0.76 0.77 0.82 0.92 0.93\n",
      " 0.62 0.88 0.5  0.28 0.48 0.46 0.23 0.38 0.94 0.97 0.99 0.31 0.96 0.24\n",
      " 0.29 0.4 ]\n",
      "0.72    34\n",
      "0.74    33\n",
      "0.64    32\n",
      "0.73    30\n",
      "0.67    30\n",
      "        ..\n",
      "0.23     1\n",
      "0.17     1\n",
      "0.32     1\n",
      "0.26     1\n",
      "0.40     1\n",
      "Name: reading_percentage, Length: 72, dtype: int64\n",
      "________________\n",
      "\n",
      "writing_percentage : [0.74 0.88 0.93 0.44 0.75 0.78 0.92 0.39 0.67 0.5  0.52 0.43 0.73 0.7\n",
      " 0.58 0.86 0.28 0.46 0.61 0.63 0.53 0.8  0.72 0.55 0.65 0.38 0.82 0.79\n",
      " 0.83 0.59 0.57 0.54 0.68 0.66 0.62 0.76 0.48 0.42 0.87 0.49 0.1  0.34\n",
      " 0.71 0.37 0.56 0.41 0.22 0.81 0.45 0.36 0.89 0.47 0.9  1.   0.64 0.98\n",
      " 0.51 0.4  0.84 0.69 0.33 0.6  0.85 0.91 0.77 0.27 0.94 0.95 0.19 0.35\n",
      " 0.32 0.96 0.97 0.99 0.15 0.3  0.23]\n",
      "0.74    35\n",
      "0.70    33\n",
      "0.68    31\n",
      "0.73    28\n",
      "0.80    27\n",
      "        ..\n",
      "0.10     1\n",
      "0.15     1\n",
      "0.23     1\n",
      "0.30     1\n",
      "0.19     1\n",
      "Name: writing_percentage, Length: 77, dtype: int64\n",
      "________________\n",
      "\n",
      "math_pass_status : ['Passed' 'Failed']\n",
      "Passed    865\n",
      "Failed    135\n",
      "Name: math_pass_status, dtype: int64\n",
      "________________\n",
      "\n",
      "reading_pass_status : ['Passed' 'Failed']\n",
      "Passed    910\n",
      "Failed     90\n",
      "Name: reading_pass_status, dtype: int64\n",
      "________________\n",
      "\n",
      "writing_pass_status : ['Passed' 'Failed']\n",
      "Passed    886\n",
      "Failed    114\n",
      "Name: writing_pass_status, dtype: int64\n",
      "________________\n",
      "\n",
      "final_grade : [0.73 0.82 0.93 0.49 0.76 0.77 0.92 0.41 0.65 0.55 0.45 0.54 0.74 0.88\n",
      " 0.26 0.58 0.66 0.7  0.5  0.72 0.75 0.59 0.68 0.69 0.63 0.64 0.4  0.89\n",
      " 0.8  0.79 0.84 0.57 0.53 0.61 0.71 0.83 0.52 0.46 0.81 0.39 0.09 0.37\n",
      " 0.6  0.47 0.38 0.78 0.32 0.86 0.62 0.91 0.96 0.51 1.   0.87 0.85 0.43\n",
      " 0.67 0.31 0.98 0.99 0.48 0.56 0.3  0.44 0.94 0.9  0.23 0.35 0.97 0.29\n",
      " 0.42 0.34 0.18]\n",
      "0.68    35\n",
      "0.69    34\n",
      "0.73    33\n",
      "0.65    29\n",
      "0.71    28\n",
      "        ..\n",
      "0.37     1\n",
      "0.34     1\n",
      "0.09     1\n",
      "0.29     1\n",
      "0.18     1\n",
      "Name: final_grade, Length: 73, dtype: int64\n",
      "________________\n",
      "\n",
      "final_status : ['Passed' 'Failed']\n",
      "Passed    900\n",
      "Failed    100\n",
      "Name: final_status, dtype: int64\n",
      "________________\n",
      "\n"
     ]
    }
   ],
   "source": [
    "# look for observations in every column of the dataset\n",
    "\n",
    "for i in df.columns:\n",
    "    print(i,\":\",df[i].unique())\n",
    "    print(df[i].value_counts())\n",
    "    print(\"________________\\n\")"
   ]
  },
  {
   "cell_type": "markdown",
   "id": "a8dbf92b",
   "metadata": {},
   "source": [
    "### Exploratory Data Analysis"
   ]
  },
  {
   "cell_type": "code",
   "execution_count": 16,
   "id": "40ca1404",
   "metadata": {},
   "outputs": [
    {
     "data": {
      "image/png": "[encoded data removed]",
      "text/plain": [
       "<Figure size 1440x720 with 4 Axes>"
      ]
     },
     "metadata": {
      "needs_background": "light"
     },
     "output_type": "display_data"
    }
   ],
   "source": [
    "# Plot distribution for Categories in data \n",
    "\n",
    "data_set, axes = plt.subplots(2, 2, figsize=(20, 10))\n",
    "\n",
    "#Plot show for sex\n",
    "sns.countplot(x='sex',  palette='Greens', data=df, ax=axes[0, 0])\n",
    "#Plot show for test preparation course:\n",
    "sns.countplot(x='test_preparation_course', palette='Greens', data=df, ax=axes[0, 1])\n",
    "#Plot show for parental level of education:\n",
    "sns.countplot(x='parental_level_of_education', palette='Greens', data=df, ax=axes[1, 0]) \n",
    "#Plot show for race/ethnicity :\n",
    "sns.countplot(x='race/ethnicity', palette='Greens', data=df, ax=axes[1, 1]) \n",
    "\n",
    "\n",
    "data_set.tight_layout()"
   ]
  },
  {
   "cell_type": "markdown",
   "id": "4094d937",
   "metadata": {},
   "source": [
    "The graphs above provide the following information:\n",
    "\n",
    "1- In Sex graph, The number of females is greater than the number of males.\n",
    "\n",
    "2-  In test_preparation_course graph, The majority of students haven't taken any preparation courses.\n",
    "\n",
    "3- In parental level of education graph, maximum number is the parents who have graduated from college.\n",
    "\n",
    "4- In race/ethnicity graph, maximum number of students are in group C and then in groups D, B, E and A.\n"
   ]
  },
  {
   "cell_type": "markdown",
   "id": "b8438342",
   "metadata": {},
   "source": [
    "## Answer the questions "
   ]
  },
  {
   "cell_type": "markdown",
   "id": "8a5b7880",
   "metadata": {},
   "source": [
    "#### Q1: Are higher education levels of parents related to the performance of their children?\n",
    "\n",
    "\n",
    "To answer the following question, first we need to know the status of parental level of education"
   ]
  },
  {
   "cell_type": "code",
   "execution_count": 17,
   "id": "8730b2ec",
   "metadata": {
    "scrolled": true
   },
   "outputs": [
    {
     "data": {
      "image/png": "[encoded data removed]",
      "text/plain": [
       "<Figure size 720x720 with 1 Axes>"
      ]
     },
     "metadata": {},
     "output_type": "display_data"
    }
   ],
   "source": [
    "# Plot that show the percentage of parental level of education.\n",
    "count_test = df['parental_level_of_education'].value_counts()\n",
    "labels = df['parental_level_of_education'].value_counts().index\n",
    "plt.figure(figsize=(10,10))\n",
    "plt.pie(count_test, labels=labels, autopct='%1.1f%%')\n",
    "plt.legend(labels)\n",
    "plt.title(\"PARENTAL LEVEl OF EDUCATION\") \n",
    "plt.show()"
   ]
  },
  {
   "cell_type": "code",
   "execution_count": 18,
   "id": "3c386973",
   "metadata": {
    "scrolled": false
   },
   "outputs": [
    {
     "data": {
      "text/plain": [
       "<AxesSubplot:xlabel='parental_level_of_education'>"
      ]
     },
     "execution_count": 18,
     "metadata": {},
     "output_type": "execute_result"
    },
    {
     "data": {
      "image/png": "[encoded data removed]",
      "text/plain": [
       "<Figure size 432x288 with 1 Axes>"
      ]
     },
     "metadata": {
      "needs_background": "light"
     },
     "output_type": "display_data"
    }
   ],
   "source": [
    "df.groupby('parental_level_of_education').mean().plot.bar() # "
   ]
  },
  {
   "cell_type": "markdown",
   "id": "6d78bbc5",
   "metadata": {},
   "source": [
    "In general, the graph shows that students with parents have master degree  perform better and students whose parents have only completed high school have lower grades than those whose parents have a higher education. Among the three subjects, math has the lowest mean regardless of the parent's degree, implying that students are better at reading and writing skills than math when grouped by parent's level of education."
   ]
  },
  {
   "cell_type": "code",
   "execution_count": 19,
   "id": "cf9cde23",
   "metadata": {
    "scrolled": true
   },
   "outputs": [
    {
     "data": {
      "text/html": [
       "<div>\n",
       "<style scoped>\n",
       "    .dataframe tbody tr th:only-of-type {\n",
       "        vertical-align: middle;\n",
       "    }\n",
       "\n",
       "    .dataframe tbody tr th {\n",
       "        vertical-align: top;\n",
       "    }\n",
       "\n",
       "    .dataframe thead th {\n",
       "        text-align: right;\n",
       "    }\n",
       "</style>\n",
       "<table border=\"1\" class=\"dataframe\">\n",
       "  <thead>\n",
       "    <tr style=\"text-align: right;\">\n",
       "      <th></th>\n",
       "      <th>math_percentage</th>\n",
       "      <th>reading_percentage</th>\n",
       "      <th>writing_percentage</th>\n",
       "      <th>final_grade</th>\n",
       "    </tr>\n",
       "    <tr>\n",
       "      <th>parental_level_of_education</th>\n",
       "      <th></th>\n",
       "      <th></th>\n",
       "      <th></th>\n",
       "      <th></th>\n",
       "    </tr>\n",
       "  </thead>\n",
       "  <tbody>\n",
       "    <tr>\n",
       "      <th>associate's degree</th>\n",
       "      <td>0.68</td>\n",
       "      <td>0.71</td>\n",
       "      <td>0.70</td>\n",
       "      <td>0.70</td>\n",
       "    </tr>\n",
       "    <tr>\n",
       "      <th>bachelor's degree</th>\n",
       "      <td>0.69</td>\n",
       "      <td>0.73</td>\n",
       "      <td>0.73</td>\n",
       "      <td>0.72</td>\n",
       "    </tr>\n",
       "    <tr>\n",
       "      <th>high school</th>\n",
       "      <td>0.62</td>\n",
       "      <td>0.65</td>\n",
       "      <td>0.62</td>\n",
       "      <td>0.63</td>\n",
       "    </tr>\n",
       "    <tr>\n",
       "      <th>master's degree</th>\n",
       "      <td>0.70</td>\n",
       "      <td>0.75</td>\n",
       "      <td>0.76</td>\n",
       "      <td>0.74</td>\n",
       "    </tr>\n",
       "    <tr>\n",
       "      <th>some college</th>\n",
       "      <td>0.67</td>\n",
       "      <td>0.69</td>\n",
       "      <td>0.69</td>\n",
       "      <td>0.68</td>\n",
       "    </tr>\n",
       "    <tr>\n",
       "      <th>some high school</th>\n",
       "      <td>0.63</td>\n",
       "      <td>0.67</td>\n",
       "      <td>0.65</td>\n",
       "      <td>0.65</td>\n",
       "    </tr>\n",
       "  </tbody>\n",
       "</table>\n",
       "</div>"
      ],
      "text/plain": [
       "                             math_percentage  reading_percentage  \\\n",
       "parental_level_of_education                                        \n",
       "associate's degree                      0.68                0.71   \n",
       "bachelor's degree                       0.69                0.73   \n",
       "high school                             0.62                0.65   \n",
       "master's degree                         0.70                0.75   \n",
       "some college                            0.67                0.69   \n",
       "some high school                        0.63                0.67   \n",
       "\n",
       "                             writing_percentage  final_grade  \n",
       "parental_level_of_education                                   \n",
       "associate's degree                         0.70         0.70  \n",
       "bachelor's degree                          0.73         0.72  \n",
       "high school                                0.62         0.63  \n",
       "master's degree                            0.76         0.74  \n",
       "some college                               0.69         0.68  \n",
       "some high school                           0.65         0.65  "
      ]
     },
     "execution_count": 19,
     "metadata": {},
     "output_type": "execute_result"
    }
   ],
   "source": [
    "df.groupby(['parental_level_of_education']).mean().round(2) #"
   ]
  },
  {
   "cell_type": "markdown",
   "id": "b03d856d",
   "metadata": {},
   "source": [
    "The table shows that parents have master degree their students perform better in all subjects. And the students whose parents have high school is have a lower percentage in all subjects."
   ]
  },
  {
   "cell_type": "markdown",
   "id": "2997f186",
   "metadata": {},
   "source": [
    "secondly, let see mark for students in each subject and also the final grade based on their parental level education."
   ]
  },
  {
   "cell_type": "code",
   "execution_count": 20,
   "id": "9427d3c9",
   "metadata": {
    "scrolled": false
   },
   "outputs": [
    {
     "data": {
      "image/png": "[encoded data removed]",
      "text/plain": [
       "<Figure size 432x288 with 1 Axes>"
      ]
     },
     "metadata": {
      "needs_background": "light"
     },
     "output_type": "display_data"
    }
   ],
   "source": [
    "# show the status in math based on parental level of education\n",
    "p = sns.countplot(y='parental_level_of_education', data=df, hue='math_pass_status', palette='bright')\n",
    "_ = plt.show()"
   ]
  },
  {
   "cell_type": "code",
   "execution_count": 21,
   "id": "b783ae82",
   "metadata": {
    "scrolled": true
   },
   "outputs": [
    {
     "data": {
      "image/png": "[encoded data removed]",
      "text/plain": [
       "<Figure size 432x288 with 1 Axes>"
      ]
     },
     "metadata": {
      "needs_background": "light"
     },
     "output_type": "display_data"
    }
   ],
   "source": [
    "# show the status in Reading based on parental level of education\n",
    "p = sns.countplot(y='parental_level_of_education', data=df, hue='reading_pass_status', palette='bright')\n",
    "_ = plt.show()"
   ]
  },
  {
   "cell_type": "code",
   "execution_count": 22,
   "id": "cd8430eb",
   "metadata": {
    "scrolled": true
   },
   "outputs": [
    {
     "data": {
      "image/png": "[encoded data removed]",
      "text/plain": [
       "<Figure size 432x288 with 1 Axes>"
      ]
     },
     "metadata": {
      "needs_background": "light"
     },
     "output_type": "display_data"
    }
   ],
   "source": [
    "# show the status in Writing based on parental level of education\n",
    "p = sns.countplot(y='parental_level_of_education', data=df, hue='writing_pass_status', palette='bright')\n",
    "_ = plt.show()"
   ]
  },
  {
   "cell_type": "markdown",
   "id": "cd66d975",
   "metadata": {},
   "source": [
    "All the 3 graphs shows that students whose parents have master degree most thier child passed in all subjects. Among the three subjects, math has the lowest mean regardless of the parent's degree, implying that students are better at reading and writing skills than math."
   ]
  },
  {
   "cell_type": "markdown",
   "id": "5cc51de9",
   "metadata": {},
   "source": [
    "### Q2: What do you think? Could students get a higher score if they took a test preparation course?"
   ]
  },
  {
   "cell_type": "code",
   "execution_count": 25,
   "id": "d1b2ebe7",
   "metadata": {
    "scrolled": false
   },
   "outputs": [
    {
     "data": {
      "image/png": "[encoded data removed]",
      "text/plain": [
       "<Figure size 360x360 with 1 Axes>"
      ]
     },
     "metadata": {},
     "output_type": "display_data"
    }
   ],
   "source": [
    "# Plot that show the percentage of the students take any test prep course.\n",
    "count_test = df['test_preparation_course'].value_counts()\n",
    "labels = df['test_preparation_course'].value_counts().index\n",
    "plt.figure(figsize=(5,5))\n",
    "plt.pie(count_test, labels=labels, autopct='%1.1f%%')\n",
    "plt.legend(labels)\n",
    "plt.show()"
   ]
  },
  {
   "cell_type": "markdown",
   "id": "817327dd",
   "metadata": {},
   "source": [
    "We see that most students not to take any test preparation course."
   ]
  },
  {
   "cell_type": "markdown",
   "id": "99d1b1bd",
   "metadata": {},
   "source": [
    "- let check if the students take pre course they will get a higher grades"
   ]
  },
  {
   "cell_type": "code",
   "execution_count": 26,
   "id": "09676cb4",
   "metadata": {
    "scrolled": false
   },
   "outputs": [
    {
     "data": {
      "text/plain": [
       "(array([0, 1]), [Text(0, 0, 'completed'), Text(1, 0, 'none')])"
      ]
     },
     "execution_count": 26,
     "metadata": {},
     "output_type": "execute_result"
    },
    {
     "data": {
      "image/png": "[encoded data removed]",
      "text/plain": [
       "<Figure size 432x288 with 1 Axes>"
      ]
     },
     "metadata": {
      "needs_background": "light"
     },
     "output_type": "display_data"
    }
   ],
   "source": [
    "# Plot that show the status of the test preparation course and there grades.\n",
    "df.groupby('test_preparation_course').mean().plot.bar()\n",
    "plt.xticks(rotation=360, horizontalalignment=\"center\")"
   ]
  },
  {
   "cell_type": "markdown",
   "id": "111a038f",
   "metadata": {},
   "source": [
    "we can see, in general, that students who chose to take a preparatory course were eventually given higher grades."
   ]
  },
  {
   "cell_type": "code",
   "execution_count": 36,
   "id": "7154e10a",
   "metadata": {
    "scrolled": true
   },
   "outputs": [
    {
     "data": {
      "image/png": "[encoded data removed]",
      "text/plain": [
       "<Figure size 432x288 with 1 Axes>"
      ]
     },
     "metadata": {
      "needs_background": "light"
     },
     "output_type": "display_data"
    }
   ],
   "source": [
    "# show the final status based on the student test preparation course or not \n",
    "p = sns.countplot(y='test_preparation_course', data=df, hue='final_status', palette='bright')\n",
    "_ = plt.show()"
   ]
  },
  {
   "cell_type": "code",
   "execution_count": 27,
   "id": "88334b5b",
   "metadata": {
    "scrolled": true
   },
   "outputs": [
    {
     "data": {
      "image/png": "[encoded data removed]",
      "text/plain": [
       "<Figure size 432x288 with 1 Axes>"
      ]
     },
     "metadata": {
      "needs_background": "light"
     },
     "output_type": "display_data"
    }
   ],
   "source": [
    "# show the math status based on the student test preparation course or not \n",
    "p = sns.countplot(y='test_preparation_course', data=df, hue='math_pass_status', palette='bright')\n",
    "_ = plt.show()"
   ]
  },
  {
   "cell_type": "code",
   "execution_count": 28,
   "id": "52a94141",
   "metadata": {
    "scrolled": false
   },
   "outputs": [
    {
     "data": {
      "image/png": "[encoded data removed]",
      "text/plain": [
       "<Figure size 432x288 with 1 Axes>"
      ]
     },
     "metadata": {
      "needs_background": "light"
     },
     "output_type": "display_data"
    }
   ],
   "source": [
    "# show the Reading status based on the student test preparation course or not \n",
    "p = sns.countplot(y='test_preparation_course', data=df, hue='reading_pass_status', palette='bright')\n",
    "_ = plt.show()"
   ]
  },
  {
   "cell_type": "code",
   "execution_count": 29,
   "id": "02c24d3b",
   "metadata": {},
   "outputs": [
    {
     "data": {
      "image/png": "[encoded data removed]",
      "text/plain": [
       "<Figure size 432x288 with 1 Axes>"
      ]
     },
     "metadata": {
      "needs_background": "light"
     },
     "output_type": "display_data"
    }
   ],
   "source": [
    "# show the Writing status based on the student test preparation course or not \n",
    "p = sns.countplot(y='test_preparation_course', data=df, hue='writing_pass_status', palette='bright')\n",
    "p = plt.show()"
   ]
  },
  {
   "cell_type": "markdown",
   "id": "91e2e38c",
   "metadata": {},
   "source": [
    "As can be seen test preparation course are also important,, students who have completed a test preparation course performed better than those who did not in all subject. and students who complete them score better."
   ]
  },
  {
   "cell_type": "markdown",
   "id": "ee6571c8",
   "metadata": {},
   "source": [
    "### Q3: Higher scores are correlated with gender?"
   ]
  },
  {
   "cell_type": "code",
   "execution_count": 30,
   "id": "68e97466",
   "metadata": {},
   "outputs": [
    {
     "data": {
      "image/png": "[encoded data removed]",
      "text/plain": [
       "<Figure size 360x360 with 1 Axes>"
      ]
     },
     "metadata": {},
     "output_type": "display_data"
    }
   ],
   "source": [
    "# Plot that show the percentage of the Male & Female.\n",
    "count_test = df['sex'].value_counts()\n",
    "labels = df['sex'].value_counts().index\n",
    "plt.figure(figsize=(5,5))\n",
    "plt.pie(count_test, labels=labels, autopct='%1.1f%%')\n",
    "plt.legend(labels)\n",
    "plt.title(\"The percentage of Male & Female\")\n",
    "plt.show()"
   ]
  },
  {
   "cell_type": "code",
   "execution_count": 31,
   "id": "4fc2abd0",
   "metadata": {},
   "outputs": [
    {
     "data": {
      "text/html": [
       "<div>\n",
       "<style scoped>\n",
       "    .dataframe tbody tr th:only-of-type {\n",
       "        vertical-align: middle;\n",
       "    }\n",
       "\n",
       "    .dataframe tbody tr th {\n",
       "        vertical-align: top;\n",
       "    }\n",
       "\n",
       "    .dataframe thead th {\n",
       "        text-align: right;\n",
       "    }\n",
       "</style>\n",
       "<table border=\"1\" class=\"dataframe\">\n",
       "  <thead>\n",
       "    <tr style=\"text-align: right;\">\n",
       "      <th></th>\n",
       "      <th>math_percentage</th>\n",
       "      <th>reading_percentage</th>\n",
       "      <th>writing_percentage</th>\n",
       "      <th>final_grade</th>\n",
       "    </tr>\n",
       "    <tr>\n",
       "      <th>sex</th>\n",
       "      <th></th>\n",
       "      <th></th>\n",
       "      <th></th>\n",
       "      <th></th>\n",
       "    </tr>\n",
       "  </thead>\n",
       "  <tbody>\n",
       "    <tr>\n",
       "      <th>F</th>\n",
       "      <td>0.64</td>\n",
       "      <td>0.73</td>\n",
       "      <td>0.72</td>\n",
       "      <td>0.70</td>\n",
       "    </tr>\n",
       "    <tr>\n",
       "      <th>M</th>\n",
       "      <td>0.69</td>\n",
       "      <td>0.65</td>\n",
       "      <td>0.63</td>\n",
       "      <td>0.66</td>\n",
       "    </tr>\n",
       "  </tbody>\n",
       "</table>\n",
       "</div>"
      ],
      "text/plain": [
       "     math_percentage  reading_percentage  writing_percentage  final_grade\n",
       "sex                                                                      \n",
       "F               0.64                0.73                0.72         0.70\n",
       "M               0.69                0.65                0.63         0.66"
      ]
     },
     "execution_count": 31,
     "metadata": {},
     "output_type": "execute_result"
    }
   ],
   "source": [
    "df.groupby(['sex']).mean().round(2) # "
   ]
  },
  {
   "cell_type": "markdown",
   "id": "e49a6006",
   "metadata": {},
   "source": [
    "The male students are more successful on math but in other Subjects the female students are more successful."
   ]
  },
  {
   "cell_type": "code",
   "execution_count": 32,
   "id": "ea8fe15b",
   "metadata": {
    "scrolled": true
   },
   "outputs": [
    {
     "data": {
      "text/plain": [
       "(array([0, 1]), [Text(0, 0, 'F'), Text(1, 0, 'M')])"
      ]
     },
     "execution_count": 32,
     "metadata": {},
     "output_type": "execute_result"
    },
    {
     "data": {
      "image/png": "[encoded data removed]",
      "text/plain": [
       "<Figure size 432x288 with 1 Axes>"
      ]
     },
     "metadata": {
      "needs_background": "light"
     },
     "output_type": "display_data"
    }
   ],
   "source": [
    "# show the sex based on the grade\n",
    "df.groupby('sex').mean().plot.bar()\n",
    "plt.xticks(rotation=360, horizontalalignment=\"center\")"
   ]
  },
  {
   "cell_type": "markdown",
   "id": "b1bab7b8",
   "metadata": {},
   "source": [
    "The graph above shows that:  \n",
    "\n",
    "1- Female students are more successful on reading and write but male students are more successful on math\n",
    "\n",
    "2- The average maths score of female students is the lowest(compared to male students and the other 2 subjects of females) and their average reading score is highest, almost the same as their reading score.\n",
    "\n",
    "This means that male students are better in math than female students of the class. Also, among math, reading and writing, male students do better in math."
   ]
  },
  {
   "cell_type": "code",
   "execution_count": 33,
   "id": "ec96841a",
   "metadata": {
    "scrolled": false
   },
   "outputs": [
    {
     "data": {
      "image/png": "[encoded data removed]",
      "text/plain": [
       "<Figure size 360x360 with 1 Axes>"
      ]
     },
     "metadata": {
      "needs_background": "light"
     },
     "output_type": "display_data"
    }
   ],
   "source": [
    "#cheak the distribution of passes and failures by female and male. \n",
    "plt.figure(figsize=(5,5))\n",
    "sns.countplot(x=\"sex\", hue=\"final_status\", data=df, color='red')\n",
    "plt.show()"
   ]
  },
  {
   "cell_type": "markdown",
   "id": "e1c62fad",
   "metadata": {},
   "source": [
    "Female students are more passes in subjects but on other hand male students are more failures "
   ]
  },
  {
   "cell_type": "markdown",
   "id": "d02bcd3a",
   "metadata": {},
   "source": [
    "## Conclusion"
   ]
  },
  {
   "cell_type": "markdown",
   "id": "7f496e9e",
   "metadata": {},
   "source": [
    "There are few conclusions below:\n",
    "\n",
    "- Parents’ education level may affect the performance of students. The higher the parental level of education, the higher the average grade of the student.\n",
    "- Finishing preparation course is beneficial. most of the students who got a high score they finished preparation course.\n",
    "- In general, the females’ final grade is higher than that of the males. And if we look more deeply: females have higher grades in reading and writing, while males lead in math."
   ]
  },
  {
   "cell_type": "markdown",
   "id": "b23863c1",
   "metadata": {},
   "source": [
    "In summary, if students want to have good performance, they should have enough nutrient and make effort to prepare the test."
   ]
  }
 ],
 "metadata": {
  "kernelspec": {
   "display_name": "Python 3",
   "language": "python",
   "name": "python3"
  },
  "language_info": {
   "codemirror_mode": {
    "name": "ipython",
    "version": 3
   },
   "file_extension": ".py",
   "mimetype": "text/x-python",
   "name": "python",
   "nbconvert_exporter": "python",
   "pygments_lexer": "ipython3",
   "version": "3.8.8"
  }
 },
 "nbformat": 4,
 "nbformat_minor": 5
}
